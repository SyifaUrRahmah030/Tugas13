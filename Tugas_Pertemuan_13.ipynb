{
  "nbformat": 4,
  "nbformat_minor": 0,
  "metadata": {
    "colab": {
      "name": "Tugas_Pertemuan 13.ipynb",
      "provenance": [],
      "collapsed_sections": [],
      "authorship_tag": "ABX9TyOGDcXTIBJAbADbLPSwYVdP",
      "include_colab_link": true
    },
    "kernelspec": {
      "name": "python3",
      "display_name": "Python 3"
    },
    "language_info": {
      "name": "python"
    }
  },
  "cells": [
    {
      "cell_type": "markdown",
      "metadata": {
        "id": "view-in-github",
        "colab_type": "text"
      },
      "source": [
        "<a href=\"https://colab.research.google.com/github/SyifaUrRahmah030/Tugas13/blob/main/Tugas_Pertemuan_13.ipynb\" target=\"_parent\"><img src=\"https://colab.research.google.com/assets/colab-badge.svg\" alt=\"Open In Colab\"/></a>"
      ]
    },
    {
      "cell_type": "markdown",
      "source": [
        "Syifa Ur Rahmah (H051211030)"
      ],
      "metadata": {
        "id": "LOkWmr3ooL3G"
      }
    },
    {
      "cell_type": "markdown",
      "source": [
        "Penjumlahan Dua Buah Matriks"
      ],
      "metadata": {
        "id": "F6dm1y1VoSpH"
      }
    },
    {
      "cell_type": "code",
      "source": [
        "#misal menghitung penjumlahan 2 buah matriks ordo 2x2\n",
        "a = int(input('masukkan nilai a : '))\n",
        "b = int(input('masukkan nilai b : '))\n",
        "c = int(input('masukkan nilai c : '))\n",
        "d = int(input('masukkan nilai d : '))\n",
        "matriksA= [\n",
        "           [a, b],\n",
        "           [c, d],\n",
        "]\n",
        "\n",
        "e = int(input('masukkan nilai e : '))\n",
        "f = int(input('masukkan nilai f : '))\n",
        "g = int(input('masukkan nilai g : '))\n",
        "h = int(input('masukkan nilai h : '))\n",
        "matriksB= [\n",
        "            [e, f],\n",
        "            [g, h],         \n",
        "]\n",
        "print('matriks A', matriksA)\n",
        "print('matriks B', matriksB)\n",
        "\n",
        "for i in range(0, len(matriksA)):\n",
        "  for j in range(0, len(matriksA[0])):\n",
        "    print(matriksA[i][j] + matriksB[i][j],end='  '),\n",
        "  print()"
      ],
      "metadata": {
        "id": "P30zgfQ7oLXn"
      },
      "execution_count": null,
      "outputs": []
    },
    {
      "cell_type": "markdown",
      "source": [
        "Nomor 1"
      ],
      "metadata": {
        "id": "-LVV1yxPpDrD"
      }
    },
    {
      "cell_type": "code",
      "execution_count": null,
      "metadata": {
        "id": "jaBjs4d8oIJn"
      },
      "outputs": [],
      "source": [
        "N = int(input('Banyak Buah Barang:'))\n",
        "totpem = 0\n",
        "for B in range (N) :\n",
        "  print('Barang ke-', B+1)\n",
        "  hargabrg = int(input('Harga Barang : '))\n",
        "  jumlahbrg = int(input('Jumlah Barang: '))\n",
        "  total = hargabrg*jumlahbrg\n",
        "  print('total', total)\n",
        "  for C in range (total):\n",
        "    totpem=totpem+1\n",
        "print('Total Pembelian: ', totpem)"
      ]
    },
    {
      "cell_type": "markdown",
      "source": [
        "Nomor 2"
      ],
      "metadata": {
        "id": "X7wlR7VDoI_N"
      }
    },
    {
      "cell_type": "code",
      "source": [
        "N = int(input('Input Banyak bilangan : '))\n",
        "jum_genap = 0\n",
        "jum_ganjil= 0\n",
        "for B in range (N):\n",
        "  b = int(input('Input Bilangan : '))\n",
        "  if b % 2 == 0:\n",
        "   jum_genap=jum_genap+1\n",
        "  else:\n",
        "    jum_ganjil=jum_ganjil+1\n",
        "print('banyak bilangan genap = ',jum_genap)\n",
        "print('banyak bilangan ganjil = ',jum_ganjil)"
      ],
      "metadata": {
        "id": "qlD9vllVpOnx"
      },
      "execution_count": null,
      "outputs": []
    },
    {
      "cell_type": "markdown",
      "source": [
        "Nomor 3"
      ],
      "metadata": {
        "id": "G3P7JmrwpVj1"
      }
    },
    {
      "cell_type": "code",
      "source": [
        "batasawal=int(input('Input Nilai Awal : '))\n",
        "batasakhir=int(input('Input Nilai Akhir : '))\n",
        "print('bilangan kelipatan 3 antara %d dan %d' %(batasawal,batasakhir))\n",
        "for i in range (batasawal, batasakhir+1):\n",
        "  if i%3==0:\n",
        "    print(i, end= ' ' )"
      ],
      "metadata": {
        "id": "yFeMdKs7pW8c"
      },
      "execution_count": null,
      "outputs": []
    },
    {
      "cell_type": "markdown",
      "source": [
        "Nomor 4"
      ],
      "metadata": {
        "id": "mXXCqakQpbFT"
      }
    },
    {
      "cell_type": "code",
      "source": [
        "n = int(input('input suatu bilangan : '))\n",
        "for i in range(1,n+1):\n",
        "    for j in range(1,i+1):\n",
        "        print(str(int(j)), end=' ')  \n",
        "    print(' ')"
      ],
      "metadata": {
        "id": "1B19jgPHpedj"
      },
      "execution_count": null,
      "outputs": []
    },
    {
      "cell_type": "markdown",
      "source": [
        "Nomor 5"
      ],
      "metadata": {
        "id": "R1V6s37Npcje"
      }
    },
    {
      "cell_type": "code",
      "source": [
        "!pip install texttable\n",
        "import texttable\n",
        "table = texttable\n",
        "jawab = 'y'\n",
        "no = 0\n",
        "nama = []\n",
        "n_tugas = []\n",
        "n_kuis = []\n",
        "n_UTS = []\n",
        "n_UAS = []\n",
        "while(jawab == 'y'):\n",
        "  nama.append(input('Masukkan Nama : '))\n",
        "  n_tugas.append(input('Masukkan Nilai Tugas : '))\n",
        "  n_kuis.append(input('Masukkan Nilai Kuis : '))\n",
        "  n_UTS.append(input('Masukkan Nilai UTS : '))\n",
        "  n_UAS.append(input('Masukkan Nilai UAS : '))\n",
        "  jawab= input('Tambah data (y/t)?')\n",
        "  no +=1\n",
        "for n in range(no):\n",
        "  tugas= float(n_tugas[n])\n",
        "  kuis= float(n_kuis[n])\n",
        "  UTS= float(n_UTS[n])\n",
        "  UAS= float(n_UAS[n])\n",
        "  akhir= (tugas+kuis+UTS+UAS)/4\n",
        "  table([['No.', 'Nama Mhs', 'N.Tugas', 'N.Kuis', 'N.UTS','N.UAS','Nilai Akhir'],\n",
        "                  [n+1, nama[n], n_tugas[n], n_kuis[n], n_UTS[n], n_UAS[n], akhir]])\n",
        "print(table.draw())"
      ],
      "metadata": {
        "id": "yX-YhknHplAI"
      },
      "execution_count": null,
      "outputs": []
    }
  ]
}